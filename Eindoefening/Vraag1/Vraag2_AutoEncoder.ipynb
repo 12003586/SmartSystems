{
 "cells": [
  {
   "cell_type": "code",
   "execution_count": null,
   "id": "a566a791-0950-4195-b573-ad46323d2631",
   "metadata": {},
   "outputs": [],
   "source": []
  }
 ],
 "metadata": {
  "kernelspec": {
   "display_name": "Python 3 (ipykernel)",
   "language": "python",
   "name": "python3"
  },
  "language_info": {
   "codemirror_mode": {
    "name": "ipython",
    "version": 3
   },
   "file_extension": ".py",
   "mimetype": "text/x-python",
   "name": "python",
   "nbconvert_exporter": "python",
   "pygments_lexer": "ipython3",
   "version": "3.9.13"
  }
 },
 "nbformat": 4,
 "nbformat_minor": 5
}
